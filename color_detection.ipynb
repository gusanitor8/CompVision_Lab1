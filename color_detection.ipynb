{
 "cells": [
  {
   "cell_type": "code",
   "execution_count": 1,
   "metadata": {},
   "outputs": [],
   "source": [
    "import cv2 as cv\n",
    "import numpy as np\n",
    "from PIL import Image"
   ]
  },
  {
   "cell_type": "code",
   "execution_count": 2,
   "metadata": {},
   "outputs": [],
   "source": [
    "def get_limits(color, delta):\n",
    "    \"\"\"\n",
    "    Obtener los límites de un color en el espacio HSV\n",
    "\n",
    "    Args:\n",
    "        color (list): color en BGR\n",
    "        delta (int): margen de error\n",
    "\n",
    "    Returns:\n",
    "        np.array: color en HSV\n",
    "        np.array: límite inferior\n",
    "        np.array: límite superior\n",
    "    \"\"\"\n",
    "    # Convertir el color a HSV\n",
    "    rgb_color = np.uint8([[color]])\n",
    "    hsv_color = cv.cvtColor(rgb_color, cv.COLOR_BGR2HSV)\n",
    "\n",
    "    # Definir los limites del color en HSV\n",
    "    h_value = int(hsv_color[0][0][0])\n",
    "    min_limit = np.array([max(h_value - delta, 0), 100, 100], dtype=np.uint8)\n",
    "    max_limit = np.array([min(h_value + delta, 179), 255, 255], dtype=np.uint8)\n",
    "\n",
    "    return min_limit, max_limit"
   ]
  },
  {
   "cell_type": "code",
   "execution_count": 3,
   "metadata": {},
   "outputs": [],
   "source": [
    "YELLOW = [0, 255, 255]"
   ]
  },
  {
   "cell_type": "code",
   "execution_count": null,
   "metadata": {},
   "outputs": [],
   "source": [
    "webcam = cv.VideoCapture(0)\n",
    "\n",
    "while True:\n",
    "    ret, frame = webcam.read()\n",
    "    \n",
    "    hsv_frame = cv.cvtColor(frame, cv.COLOR_BGR2HSV)\n",
    "    yellow_min, yellow_max = get_limits(YELLOW, 15)\n",
    "\n",
    "    mask = cv.inRange(hsv_frame, yellow_min, yellow_max)\n",
    "    mask_ = Image.fromarray(mask)\n",
    "    bbox = mask_.getbbox()\n",
    "\n",
    "    if bbox is not None:\n",
    "        x1, y1, x2, y2 = bbox\n",
    "        cv.rectangle(frame, (x1, y1), (x2, y2), (0, 255, 0), 5)\n",
    "        cv.putText(frame, 'Yellow', (x1, y1 - 10), cv.FONT_HERSHEY_SIMPLEX, 0.9, (0, 255, 0), 2)\n",
    "\n",
    "    cv.imshow('Webcam', frame)\n",
    "\n",
    "    if cv.waitKey(1) & 0xFF == ord('q'):\n",
    "        break\n",
    "\n",
    "webcam.release()\n",
    "cv.destroyAllWindows()"
   ]
  }
 ],
 "metadata": {
  "kernelspec": {
   "display_name": "CVision_L1",
   "language": "python",
   "name": "python3"
  },
  "language_info": {
   "codemirror_mode": {
    "name": "ipython",
    "version": 3
   },
   "file_extension": ".py",
   "mimetype": "text/x-python",
   "name": "python",
   "nbconvert_exporter": "python",
   "pygments_lexer": "ipython3",
   "version": "3.12.9"
  }
 },
 "nbformat": 4,
 "nbformat_minor": 2
}
