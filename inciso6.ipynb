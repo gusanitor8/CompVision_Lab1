{
 "cells": [
  {
   "cell_type": "markdown",
   "metadata": {},
   "source": [
    "# Ejercicio 6"
   ]
  },
  {
   "cell_type": "markdown",
   "metadata": {},
   "source": [
    "Implementar un detector de color YELLOW que funciones en tiempo real en un video. Para ello, implementar el algoritmo en OpenCV, de modo que capture las im´agene directamente de la c´ amara de su PC, y que muestre el resultado de la detecci´on en tiempo real en pantalla. Si usted lo desea, puede dise˜ nar el detector para que detecte otros colores diferentes. Mostrar en su informe, resultados (screenshots) del funcionamiento de su detector."
   ]
  },
  {
   "cell_type": "markdown",
   "metadata": {},
   "source": [
    "## Librerias"
   ]
  },
  {
   "cell_type": "code",
   "execution_count": 1,
   "metadata": {},
   "outputs": [],
   "source": [
    "import cv2 as cv\n",
    "import numpy as np\n",
    "from PIL import Image"
   ]
  },
  {
   "cell_type": "markdown",
   "metadata": {},
   "source": [
    "## Funciones auxiliares"
   ]
  },
  {
   "cell_type": "code",
   "execution_count": 2,
   "metadata": {},
   "outputs": [],
   "source": [
    "def get_limits(color, delta):\n",
    "    \"\"\"\n",
    "    Obtener los límites de un color en el espacio HSV\n",
    "\n",
    "    Args:\n",
    "        color (list): color en BGR\n",
    "        delta (int): margen de error\n",
    "\n",
    "    Returns:\n",
    "        np.array: color en HSV\n",
    "        np.array: límite inferior\n",
    "        np.array: límite superior\n",
    "    \"\"\"\n",
    "    # Convertir el color a HSV\n",
    "    rgb_color = np.uint8([[color]])\n",
    "    hsv_color = cv.cvtColor(rgb_color, cv.COLOR_BGR2HSV)\n",
    "\n",
    "    # Definir los limites del color en HSV\n",
    "    h_value = int(hsv_color[0][0][0])\n",
    "    min_limit = np.array([max(h_value - delta, 0), 100, 100], dtype=np.uint8)\n",
    "    max_limit = np.array([min(h_value + delta, 179), 255, 255], dtype=np.uint8)\n",
    "\n",
    "    return min_limit, max_limit"
   ]
  },
  {
   "cell_type": "code",
   "execution_count": null,
   "metadata": {},
   "outputs": [],
   "source": [
    "def gen_bbox(hsv_image, color_name, bgr_color, delta):\n",
    "    \"\"\"\n",
    "    Generar una mascara y un bounding box para un color en una imagen\n",
    "\n",
    "    Args:\n",
    "        hsv_image (np.array): imagen en HSV\n",
    "        color_name (str): nombre del color\n",
    "        bgr_color (list): color en BGR\n",
    "        delta (int): margen de error\n",
    "\n",
    "    Returns:\n",
    "        np.array: imagen con el bounding box\n",
    "    \"\"\"\n",
    "    # Obtener los limites del color en HSV\n",
    "    lower_limit, upper_limit = get_limits(bgr_color, delta)\n",
    "    # Generar la mascara del color\n",
    "    mask = cv.inRange(hsv_image, lower_limit, upper_limit)\n",
    "    result = Image.fromarray(mask)\n",
    "    # Encontrar el bounding box del color\n",
    "    bbox = result.getbbox()\n",
    "\n",
    "    # Si la bounding box no es None\n",
    "    if bbox is not None:\n",
    "        # Obtener las coordenadas del bounding box\n",
    "        x1, y1, x2, y2 = bbox\n",
    "        # Dibujar el bounding box\n",
    "        cv.rectangle(hsv_image, (x1, y1), (x2, y2), bgr_color, 5)\n",
    "        # Escribir el nombre del color\n",
    "        cv.putText(hsv_image, color_name, (x1, y1), cv.FONT_HERSHEY_SIMPLEX, 1, bgr_color, 2, cv.LINE_AA)\n",
    "\n",
    "    return hsv_image"
   ]
  },
  {
   "cell_type": "markdown",
   "metadata": {},
   "source": [
    "## Captura de video y deteccion de colores"
   ]
  },
  {
   "cell_type": "code",
   "execution_count": null,
   "metadata": {},
   "outputs": [],
   "source": [
    "# Definir los colores en BGR\n",
    "YELLOW = [0, 255, 255]\n",
    "RED = [0, 0, 255]\n",
    "GREEN = [0, 255, 0]\n",
    "BLUE = [255, 0, 0]"
   ]
  },
  {
   "cell_type": "code",
   "execution_count": null,
   "metadata": {},
   "outputs": [],
   "source": [
    "# Inicializar la captura de video\n",
    "webcam = cv.VideoCapture(0)\n",
    "\n",
    "# Iniciar el bucle para capturar frames\n",
    "while True:\n",
    "    # Leer un frame de la captura\n",
    "    ret, frame = webcam.read()\n",
    "    # Convertir el frame a HSV para analizar los colores\n",
    "    hsv_frame = cv.cvtColor(frame, cv.COLOR_BGR2HSV)\n",
    "    \n",
    "    # Generar el bounding box para cada color\n",
    "    hsv_frame = gen_bbox(hsv_frame, 'Yellow', YELLOW, 15)\n",
    "    hsv_frame =gen_bbox(hsv_frame, 'Red', RED, 15)\n",
    "    hsv_frame =gen_bbox(hsv_frame, 'Green', GREEN, 15)\n",
    "    hsv_frame =gen_bbox(hsv_frame, 'Blue', BLUE, 15)\n",
    "\n",
    "    # Mostrar el frame con los bounding box\n",
    "    cv.imshow('Webcam', hsv_frame)\n",
    "\n",
    "    # Salir del bucle si se presiona la tecla 'q'\n",
    "    if cv.waitKey(1) & 0xFF == ord('q'):\n",
    "        break\n",
    "\n",
    "# Liberar la captura de video y cerrar las ventanas\n",
    "webcam.release()\n",
    "cv.destroyAllWindows()"
   ]
  }
 ],
 "metadata": {
  "kernelspec": {
   "display_name": "CVision_L1",
   "language": "python",
   "name": "python3"
  },
  "language_info": {
   "codemirror_mode": {
    "name": "ipython",
    "version": 3
   },
   "file_extension": ".py",
   "mimetype": "text/x-python",
   "name": "python",
   "nbconvert_exporter": "python",
   "pygments_lexer": "ipython3",
   "version": "3.12.9"
  }
 },
 "nbformat": 4,
 "nbformat_minor": 2
}
