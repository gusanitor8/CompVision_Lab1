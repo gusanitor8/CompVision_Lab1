{
 "cells": [
  {
   "cell_type": "markdown",
   "metadata": {},
   "source": [
    "# Ejercicio 6\n",
    "## Detección de Amarillos en tiempo real"
   ]
  },
  {
   "cell_type": "markdown",
   "metadata": {},
   "source": [
    "### Librerias"
   ]
  },
  {
   "cell_type": "code",
   "execution_count": 1,
   "metadata": {},
   "outputs": [],
   "source": [
    "import numpy as np\n",
    "import cv2 as cv"
   ]
  },
  {
   "cell_type": "markdown",
   "metadata": {},
   "source": [
    "### Limites de Colores"
   ]
  },
  {
   "cell_type": "code",
   "execution_count": 2,
   "metadata": {},
   "outputs": [],
   "source": [
    "def get_limits(color, delta):\n",
    "    \"\"\"\n",
    "    Obtener los límites de un color en el espacio HSV\n",
    "\n",
    "    Args:\n",
    "        color (list): color en BGR\n",
    "        delta (int): margen de error\n",
    "\n",
    "    Returns:\n",
    "        np.array: color en HSV\n",
    "        np.array: límite inferior\n",
    "        np.array: límite superior\n",
    "    \"\"\"\n",
    "    # Convertir el color a HSV\n",
    "    rgb_color = np.uint8([[color]])\n",
    "    hsv_color = cv.cvtColor(rgb_color, cv.COLOR_BGR2HSV)\n",
    "\n",
    "    # Definir los limites del color en HSV\n",
    "    h_value = int(hsv_color[0][0][0])\n",
    "    min_limit = np.array([max(h_value - delta, 0), 100, 100], dtype=np.uint8)\n",
    "    max_limit = np.array([min(h_value + delta, 179), 255, 255], dtype=np.uint8)\n",
    "\n",
    "    return hsv_color[0][0], min_limit, max_limit"
   ]
  },
  {
   "cell_type": "code",
   "execution_count": 3,
   "metadata": {},
   "outputs": [
    {
     "name": "stdout",
     "output_type": "stream",
     "text": [
      "Red: [  0 255 255] -> [  0 100 100] - [ 15 255 255]\n",
      "Green: [ 60 255 255] -> [ 45 100 100] - [ 75 255 255]\n",
      "Blue: [120 255 255] -> [105 100 100] - [135 255 255]\n",
      "Yellow: [ 30 255 255] -> [ 15 100 100] - [ 45 255 255]\n"
     ]
    }
   ],
   "source": [
    "# Definir colores en BGR\n",
    "RED = [0, 0, 255]\n",
    "GREEN = [0, 255, 0]\n",
    "BLUE = [255, 0, 0]\n",
    "YELLOW = [0, 255, 255]\n",
    "\n",
    "# Obtener límites para cada color\n",
    "red, red_min, red_max = get_limits(color=RED, delta=15)\n",
    "green, green_min, green_max = get_limits(color=GREEN, delta=15)\n",
    "blue, blue_min, blue_max = get_limits(color=BLUE, delta=15)\n",
    "yellow, yellow_min, yellow_max = get_limits(color=YELLOW, delta=15)\n",
    "\n",
    "# Mostrar resultados\n",
    "print(f\"Red: {red} -> {red_min} - {red_max}\")\n",
    "print(f\"Green: {green} -> {green_min} - {green_max}\")\n",
    "print(f\"Blue: {blue} -> {blue_min} - {blue_max}\")\n",
    "print(f\"Yellow: {yellow} -> {yellow_min} - {yellow_max}\")"
   ]
  },
  {
   "cell_type": "markdown",
   "metadata": {},
   "source": [
    "### Captura de video y deteccion"
   ]
  },
  {
   "cell_type": "code",
   "execution_count": 4,
   "metadata": {},
   "outputs": [],
   "source": [
    "def gen_contours(image, mask, color_name, color_bgr):\n",
    "    # Encontrar contornos\n",
    "    contours, _ = cv.findContours(mask, cv.RETR_TREE, cv.CHAIN_APPROX_SIMPLE)\n",
    "    # Dibujar contornos\n",
    "    for contour in contours:\n",
    "        # Filtrar contornos pequeños\n",
    "        if cv.contourArea(contour) > 300:\n",
    "            \n",
    "            # Obtener bounding box\n",
    "            x, y, w, h = cv.boundingRect(contour)\n",
    "            # Dibujar bounding box\n",
    "            cv.rectangle(image, (x, y), (x + w, y + h), color_bgr, 2)\n",
    "            # Dibujar texto con el color\n",
    "            cv.putText(image, color_name, (x, y - 10), cv.FONT_HERSHEY_SIMPLEX, 0.7, color_bgr)\n",
    "    \n",
    "    return image"
   ]
  },
  {
   "cell_type": "code",
   "execution_count": 5,
   "metadata": {},
   "outputs": [
    {
     "name": "stdout",
     "output_type": "stream",
     "text": [
      "ERROR: No se pudo obtener el frame\n"
     ]
    }
   ],
   "source": [
    "# Inicializar la webcam\n",
    "webcam = cv.VideoCapture(0)\n",
    "\n",
    "# Inicializar el detector de colores\n",
    "while True:\n",
    "    # Leer el frame de la webcam\n",
    "    ret, video_frame = webcam.read()\n",
    "    # Verificar si se obtuvo el frame\n",
    "    if not ret:\n",
    "        print(\"ERROR: No se pudo obtener el frame\")\n",
    "        break\n",
    "\n",
    "    # Convertir el frame a HSV\n",
    "    hsv_frame = cv.cvtColor(video_frame, cv.COLOR_BGR2HSV)\n",
    "\n",
    "    # Crear una mascara para cada color\n",
    "    red_mask = cv.inRange(hsv_frame, red_min, red_max)\n",
    "    green_mask = cv.inRange(hsv_frame, green_min, green_max)\n",
    "    blue_mask = cv.inRange(hsv_frame, blue_min, blue_max)\n",
    "    yellow_mask = cv.inRange(hsv_frame, yellow_min, yellow_max)\n",
    "\n",
    "    # Aplicar una transformación morfológica a cada máscara, \n",
    "    # Dilation para unir regiones cercanas\n",
    "    # y bitwise_and para obtener la región de interés\n",
    "    # Kernel\n",
    "    kernel = np.ones((5, 5), np.uint8)  # Matriz de 5x5 con unos\n",
    "\n",
    "    # Rojo\n",
    "    red_mask = cv.dilate(red_mask, kernel)\n",
    "    res_red = cv.bitwise_and(video_frame, video_frame, mask=red_mask)\n",
    "\n",
    "    # Verde\n",
    "    green_mask = cv.dilate(green_mask, kernel)\n",
    "    res_green = cv.bitwise_and(video_frame, video_frame, mask=green_mask)\n",
    "\n",
    "    # Azul\n",
    "    blue_mask = cv.dilate(blue_mask, kernel)\n",
    "    res_blue = cv.bitwise_and(video_frame, video_frame, mask=blue_mask)\n",
    "\n",
    "    # Amarillo\n",
    "    yellow_mask = cv.dilate(yellow_mask, kernel)\n",
    "    res_yellow = cv.bitwise_and(video_frame, video_frame, mask=yellow_mask)\n",
    "\n",
    "    # Crear una ventana para mostrar el frame y el contorno\n",
    "    video_frame = gen_contours(video_frame, red_mask, \"Red\", RED)\n",
    "    video_frame = gen_contours(video_frame, green_mask, \"Green\", GREEN)\n",
    "    video_frame = gen_contours(video_frame, blue_mask, \"Blue\", BLUE)\n",
    "    video_frame = gen_contours(video_frame, yellow_mask, \"Yellow\", YELLOW)\n",
    "\n",
    "    # Mostrar el frame\n",
    "    cv.imshow(\"Frame\", video_frame)\n",
    "\n",
    "    # Salir si se presiona la tecla 'q'\n",
    "    if cv.waitKey(1) & 0xFF == ord('q'):\n",
    "        webcam.release()    # Liberar la webcam\n",
    "        cv.destroyAllWindows()  # Cerrar las ventanas\n",
    "        break"
   ]
  }
 ],
 "metadata": {
  "kernelspec": {
   "display_name": "CVision_L1",
   "language": "python",
   "name": "python3"
  },
  "language_info": {
   "codemirror_mode": {
    "name": "ipython",
    "version": 3
   },
   "file_extension": ".py",
   "mimetype": "text/x-python",
   "name": "python",
   "nbconvert_exporter": "python",
   "pygments_lexer": "ipython3",
   "version": "3.12.9"
  }
 },
 "nbformat": 4,
 "nbformat_minor": 2
}
