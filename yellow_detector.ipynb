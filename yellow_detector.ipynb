{
 "cells": [
  {
   "cell_type": "markdown",
   "metadata": {},
   "source": [
    "# Ejercicio 6\n",
    "## Detección de Amarillos en tiempo real"
   ]
  },
  {
   "cell_type": "markdown",
   "metadata": {},
   "source": [
    "### Librerias"
   ]
  },
  {
   "cell_type": "code",
   "execution_count": 1,
   "metadata": {},
   "outputs": [],
   "source": [
    "import numpy as np\n",
    "import cv2 as cv"
   ]
  },
  {
   "cell_type": "markdown",
   "metadata": {},
   "source": [
    "### Limites de Colores"
   ]
  },
  {
   "cell_type": "code",
   "execution_count": null,
   "metadata": {},
   "outputs": [],
   "source": [
    "def get_limits(color, delta):\n",
    "    \"\"\"\n",
    "    Obtener los límites de un color en el espacio HSV\n",
    "\n",
    "    Args:\n",
    "        color (list): color en BGR\n",
    "        delta (int): margen de error\n",
    "\n",
    "    Returns:\n",
    "        np.array: color en HSV\n",
    "        np.array: límite inferior\n",
    "        np.array: límite superior\n",
    "    \"\"\"\n",
    "    # Convertir el color a HSV\n",
    "    rgb_color = np.uint8([[color]])\n",
    "    hsv_color = cv.cvtColor(rgb_color, cv.COLOR_BGR2HSV)\n",
    "\n",
    "    # Definir los limites del color en HSV\n",
    "    h_value = int(hsv_color[0][0][0])\n",
    "    min_limit = np.array([max(h_value - delta, 0), 100, 100], dtype=np.uint8)\n",
    "    max_limit = np.array([min(h_value + delta, 179), 255, 255], dtype=np.uint8)\n",
    "\n",
    "    return hsv_color[0][0], min_limit, max_limit"
   ]
  },
  {
   "cell_type": "code",
   "execution_count": 3,
   "metadata": {},
   "outputs": [
    {
     "data": {
      "text/plain": [
       "(array([  0, 255, 255], dtype=uint8),\n",
       " array([  0, 100, 100], dtype=uint8),\n",
       " array([ 15, 255, 255], dtype=uint8),\n",
       " array([ 60, 255, 255], dtype=uint8),\n",
       " array([ 45, 100, 100], dtype=uint8),\n",
       " array([ 75, 255, 255], dtype=uint8),\n",
       " array([120, 255, 255], dtype=uint8),\n",
       " array([105, 100, 100], dtype=uint8),\n",
       " array([135, 255, 255], dtype=uint8),\n",
       " array([ 30, 255, 255], dtype=uint8),\n",
       " array([ 15, 100, 100], dtype=uint8),\n",
       " array([ 45, 255, 255], dtype=uint8))"
      ]
     },
     "execution_count": 3,
     "metadata": {},
     "output_type": "execute_result"
    }
   ],
   "source": [
    "# Definir colores en BGR\n",
    "RED = [0, 0, 255]\n",
    "GREEN = [0, 255, 0]\n",
    "BLUE = [255, 0, 0]\n",
    "YELLOW = [0, 255, 255]\n",
    "\n",
    "# Obtener límites para cada color\n",
    "red, red_min, red_max = get_limits(color=RED, delta=15)\n",
    "green, green_min, green_max = get_limits(color=GREEN, delta=15)\n",
    "blue, blue_min, blue_max = get_limits(color=BLUE, delta=15)\n",
    "yellow, yellow_min, yellow_max = get_limits(color=YELLOW, delta=15)\n",
    "\n",
    "# Mostrar resultados\n",
    "red, red_min, red_max, green, green_min, green_max, blue, blue_min, blue_max, yellow, yellow_min, yellow_max\n"
   ]
  },
  {
   "cell_type": "markdown",
   "metadata": {},
   "source": [
    "### Captura de video"
   ]
  }
 ],
 "metadata": {
  "kernelspec": {
   "display_name": "CVision_L1",
   "language": "python",
   "name": "python3"
  },
  "language_info": {
   "codemirror_mode": {
    "name": "ipython",
    "version": 3
   },
   "file_extension": ".py",
   "mimetype": "text/x-python",
   "name": "python",
   "nbconvert_exporter": "python",
   "pygments_lexer": "ipython3",
   "version": "3.12.9"
  }
 },
 "nbformat": 4,
 "nbformat_minor": 2
}
